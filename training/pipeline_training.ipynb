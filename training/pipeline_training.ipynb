{
 "cells": [
  {
   "cell_type": "code",
   "execution_count": 6,
   "id": "f141c515-f146-4180-9458-5d469a882641",
   "metadata": {},
   "outputs": [],
   "source": [
    "import kfp\n",
    "from kfp import dsl\n",
    "\n",
    "# Step 1: Download dataset from Roboflow\n",
    "@dsl.component(packages_to_install=['opencv-python-headless', 'ultralytics', 'roboflow'], base_image=\"python:3.9\")\n",
    "def download_dataset(api_key: str, workspace: str, project_name: str, version_number: int) -> str:\n",
    "    import os\n",
    "    import subprocess\n",
    "    from roboflow import Roboflow\n",
    "    \n",
    "    rf = Roboflow(api_key=api_key)\n",
    "    project = rf.workspace(workspace).project(project_name)\n",
    "    version = project.version(version_number)\n",
    "    dataset_path = version.download(\"yolov11\")\n",
    "    \n",
    "    return dataset_path\n",
    "\n",
    "# Step 2: Train YOLO Model\n",
    "@dsl.component(packages_to_install=['opencv-python-headless', 'ultralytics', 'roboflow'], base_image=\"python:3.9\")\n",
    "def train_model(dataset_path: str) -> str:\n",
    "    import os\n",
    "    import subprocess\n",
    "\n",
    "    from ultralytics import YOLO\n",
    "    \n",
    "    model = YOLO(\"yolo11n.pt\")\n",
    "    results = model.train(\n",
    "        data=os.path.join(dataset_path, \"data.yaml\"),\n",
    "        epochs=100,\n",
    "        imgsz=640,\n",
    "        batch=16,\n",
    "        device=\"cuda\"\n",
    "    )\n",
    "    \n",
    "    best_model_path = os.path.join(\"runs/train\", results.save_dir, \"weights/best.pt\")\n",
    "    return best_model_path\n",
    "\n",
    "# Define the Kubeflow pipeline\n",
    "@dsl.pipeline(name=\"roboflow-yolo-training\")\n",
    "def roboflow_pipeline(api_key: str, workspace: str, project_name: str, version_number: int):\n",
    "    dataset_task = download_dataset(api_key=api_key, workspace=workspace, project_name=project_name, version_number=version_number)\n",
    "    train_task = train_model(dataset_path=dataset_task.output)\n",
    "\n",
    "# Compile the pipeline\n",
    "if __name__ == \"__main__\":\n",
    "    kfp.compiler.Compiler().compile(roboflow_pipeline, \"roboflow_pipeline.yaml\")\n"
   ]
  },
  {
   "cell_type": "code",
   "execution_count": null,
   "id": "a5256bc7-4fef-454d-83da-45a4503bfb93",
   "metadata": {},
   "outputs": [],
   "source": []
  }
 ],
 "metadata": {
  "kernelspec": {
   "display_name": "Python 3 (ipykernel)",
   "language": "python",
   "name": "python3"
  },
  "language_info": {
   "codemirror_mode": {
    "name": "ipython",
    "version": 3
   },
   "file_extension": ".py",
   "mimetype": "text/x-python",
   "name": "python",
   "nbconvert_exporter": "python",
   "pygments_lexer": "ipython3",
   "version": "3.11.9"
  }
 },
 "nbformat": 4,
 "nbformat_minor": 5
}
